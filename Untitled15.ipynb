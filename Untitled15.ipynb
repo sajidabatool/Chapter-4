{
  "nbformat": 4,
  "nbformat_minor": 0,
  "metadata": {
    "colab": {
      "provenance": [],
      "authorship_tag": "ABX9TyPhxcwoBTr0pM5AeJrzkK31",
      "include_colab_link": true
    },
    "kernelspec": {
      "name": "python3",
      "display_name": "Python 3"
    },
    "language_info": {
      "name": "python"
    }
  },
  "cells": [
    {
      "cell_type": "markdown",
      "metadata": {
        "id": "view-in-github",
        "colab_type": "text"
      },
      "source": [
        "<a href=\"https://colab.research.google.com/github/sajidabatool/Chapter-4/blob/main/Untitled15.ipynb\" target=\"_parent\"><img src=\"https://colab.research.google.com/assets/colab-badge.svg\" alt=\"Open In Colab\"/></a>"
      ]
    },
    {
      "cell_type": "code",
      "execution_count": null,
      "metadata": {
        "id": "CA0TD_b2Z-rb"
      },
      "outputs": [],
      "source": []
    },
    {
      "cell_type": "markdown",
      "source": [
        "**Question 4.1**\n",
        "\n"
      ],
      "metadata": {
        "id": "kYpBnnLyaAsM"
      }
    },
    {
      "cell_type": "code",
      "source": [
        "pizza_sajida=['Meat Pizza','Siclian Pizza','Greek Pizza','Deep Disha Pizza']\n",
        "for j in range(0,len(pizza_sajida)):\n",
        "    print(pizza_sajida[j])\n",
        "for i in range(0,len(pizza_sajida)):\n",
        "    print(\"I like to Eat \"+pizza_sajida[i]+\" everytime\")\n",
        "print(\"I love Pizza\")"
      ],
      "metadata": {
        "colab": {
          "base_uri": "https://localhost:8080/"
        },
        "id": "dMDrEJR6aeiZ",
        "outputId": "cded3864-fa0b-4a09-b320-17bd08ef50ec"
      },
      "execution_count": 4,
      "outputs": [
        {
          "output_type": "stream",
          "name": "stdout",
          "text": [
            "Meat Pizza\n",
            "Siclian Pizza\n",
            "Greek Pizza\n",
            "Deep Disha Pizza\n",
            "I like to Eat Meat Pizza everytime\n",
            "I like to Eat Siclian Pizza everytime\n",
            "I like to Eat Greek Pizza everytime\n",
            "I like to Eat Deep Disha Pizza everytime\n",
            "I love Pizza\n"
          ]
        }
      ]
    },
    {
      "cell_type": "markdown",
      "source": [
        "**Question 4.2**"
      ],
      "metadata": {
        "id": "huGRkXXoanE6"
      }
    },
    {
      "cell_type": "code",
      "source": [
        "animals_sajida=['goat','cow','buffalow']\n",
        "for a in range(0,len(animals_sajida)):\n",
        "    print(animals_sajida[a])\n",
        "for b in range(0,len(animals_sajida)):\n",
        "    print(animals_sajida[b]+\" is a Halal Pet\")\n",
        "print(\"All these Animals give Milk\")"
      ],
      "metadata": {
        "colab": {
          "base_uri": "https://localhost:8080/"
        },
        "id": "UpozOwliasm1",
        "outputId": "059e40d6-3b65-4656-c853-a7c83ca5d609"
      },
      "execution_count": 5,
      "outputs": [
        {
          "output_type": "stream",
          "name": "stdout",
          "text": [
            "goat\n",
            "cow\n",
            "buffalow\n",
            "goat is a Halal Pet\n",
            "cow is a Halal Pet\n",
            "buffalow is a Halal Pet\n",
            "All these Animals give Milk\n"
          ]
        }
      ]
    }
  ]
}
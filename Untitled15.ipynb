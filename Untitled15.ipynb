{
  "nbformat": 4,
  "nbformat_minor": 0,
  "metadata": {
    "colab": {
      "provenance": [],
      "authorship_tag": "ABX9TyM5CvtEM9SBD1eLnvVPaUPP",
      "include_colab_link": true
    },
    "kernelspec": {
      "name": "python3",
      "display_name": "Python 3"
    },
    "language_info": {
      "name": "python"
    }
  },
  "cells": [
    {
      "cell_type": "markdown",
      "metadata": {
        "id": "view-in-github",
        "colab_type": "text"
      },
      "source": [
        "<a href=\"https://colab.research.google.com/github/sajidabatool/Chapter-4/blob/main/Untitled15.ipynb\" target=\"_parent\"><img src=\"https://colab.research.google.com/assets/colab-badge.svg\" alt=\"Open In Colab\"/></a>"
      ]
    },
    {
      "cell_type": "code",
      "execution_count": null,
      "metadata": {
        "id": "CA0TD_b2Z-rb"
      },
      "outputs": [],
      "source": []
    },
    {
      "cell_type": "markdown",
      "source": [
        "**Question 4.11**"
      ],
      "metadata": {
        "id": "17T9nbZGpfZM"
      }
    },
    {
      "cell_type": "code",
      "source": [
        "pizza_Sajida=['Meat Pizza','Siclian Pizza','BBQ Pizza','Deep Disha Pizza']\n",
        "# Copying List to an other List\n",
        "friend_pizza_Sajida=pizza_Sajida[:]\n",
        "\n",
        "#Inserting new item in original List\n",
        "pizza_Sajida.append('Fajeeta')\n",
        "#inserting mew item to firends Pizza list\n",
        "friend_pizza_Sajida.append('BoneFire')\n",
        "\n",
        "print(\"My Favorite pizzas are:\")\n",
        "for pizzas in pizza_Sajida:\n",
        "    print(pizzas)\n",
        "    \n",
        "print(\"\\nMy friend's Favorite pizzas are:\")\n",
        "for friend_pizzas in friend_pizza_Sajida:\n",
        "    print(friend_pizzas)"
      ],
      "metadata": {
        "id": "E5yHEgu7pmc_",
        "outputId": "8443f665-e54b-4d2a-95fe-d5ca7e7ce584",
        "colab": {
          "base_uri": "https://localhost:8080/"
        }
      },
      "execution_count": null,
      "outputs": [
        {
          "output_type": "stream",
          "name": "stdout",
          "text": [
            "My Favorite pizzas are:\n",
            "Meat Pizza\n",
            "Siclian Pizza\n",
            "BBQ Pizza\n",
            "Deep Disha Pizza\n",
            "Fajeeta\n",
            "\n",
            "My friend's Favorite pizzas are:\n",
            "Meat Pizza\n",
            "Siclian Pizza\n",
            "BBQ Pizza\n",
            "Deep Disha Pizza\n",
            "BoneFire\n"
          ]
        }
      ]
    },
    {
      "cell_type": "markdown",
      "source": [
        "**Question 4.13**"
      ],
      "metadata": {
        "id": "5gMxFBDBqlAa"
      }
    },
    {
      "cell_type": "code",
      "source": [
        "buffet_Sajida=['Beef','Chicken','rushian Salid','qofty','fish']\n",
        "print(\"Our Resturant Offers following Foods:\")\n",
        "# Part 1 \n",
        "for foods in buffet_Sajida:\n",
        "    print(foods)   \n",
        "#part 2 \n",
        "buffet_Sajida[0]='Tikka Boti'\n",
        "# Part 3\n",
        "buffet_Sajida=('Beef','Chicken','rushian salid','qofty','fish','Tikka Boti')\n",
        "print(\"Our Resturant Offers following Foods after adding new items:\")\n",
        "for foods in buffet_Sajida:\n",
        "    print(foods)"
      ],
      "metadata": {
        "id": "VurcYOBfqrq1",
        "outputId": "fe687613-15d0-4b3a-d35e-33b09aef40eb",
        "colab": {
          "base_uri": "https://localhost:8080/"
        }
      },
      "execution_count": 8,
      "outputs": [
        {
          "output_type": "stream",
          "name": "stdout",
          "text": [
            "Our Resturant Offers following Foods:\n",
            "Beef\n",
            "Chicken\n",
            "rushian Salid\n",
            "qofty\n",
            "fish\n",
            "Our Resturant Offers following Foods after adding new items:\n",
            "Beef\n",
            "Chicken\n",
            "rushian salid\n",
            "qofty\n",
            "fish\n",
            "Tikka Boti\n"
          ]
        }
      ]
    },
    {
      "cell_type": "markdown",
      "source": [],
      "metadata": {
        "id": "NfqmHjRyyxqv"
      }
    },
    {
      "cell_type": "markdown",
      "source": [
        "**Question 4.1**\n",
        "\n"
      ],
      "metadata": {
        "id": "kYpBnnLyaAsM"
      }
    },
    {
      "cell_type": "code",
      "source": [
        "pizza_sajida=['Meat Pizza','Siclian Pizza','BBQ Pizza','Deep Disha Pizza']\n",
        "for j in range(0,len(pizza_sajida)):\n",
        "    print(pizza_sajida[j])\n",
        "for i in range(0,len(pizza_sajida)):\n",
        "    print(\"I like to Eat \"+pizza_sajida[i]+\" everytime\")\n",
        "print(\"I love Pizza\")"
      ],
      "metadata": {
        "colab": {
          "base_uri": "https://localhost:8080/"
        },
        "id": "dMDrEJR6aeiZ",
        "outputId": "cded3864-fa0b-4a09-b320-17bd08ef50ec"
      },
      "execution_count": null,
      "outputs": [
        {
          "output_type": "stream",
          "name": "stdout",
          "text": [
            "Meat Pizza\n",
            "Siclian Pizza\n",
            "Greek Pizza\n",
            "Deep Disha Pizza\n",
            "I like to Eat Meat Pizza everytime\n",
            "I like to Eat Siclian Pizza everytime\n",
            "I like to Eat Greek Pizza everytime\n",
            "I like to Eat Deep Disha Pizza everytime\n",
            "I love Pizza\n"
          ]
        }
      ]
    },
    {
      "cell_type": "markdown",
      "source": [
        "**Question 4.2**"
      ],
      "metadata": {
        "id": "huGRkXXoanE6"
      }
    },
    {
      "cell_type": "code",
      "source": [
        "animals_sajida=['goat','cow','buffalow']\n",
        "for a in range(0,len(animals_sajida)):\n",
        "    print(animals_sajida[a])\n",
        "for b in range(0,len(animals_sajida)):\n",
        "    print(animals_sajida[b]+\" is a Halal Pet\")\n",
        "print(\"All these Animals give Milk\")"
      ],
      "metadata": {
        "colab": {
          "base_uri": "https://localhost:8080/"
        },
        "id": "UpozOwliasm1",
        "outputId": "059e40d6-3b65-4656-c853-a7c83ca5d609"
      },
      "execution_count": null,
      "outputs": [
        {
          "output_type": "stream",
          "name": "stdout",
          "text": [
            "goat\n",
            "cow\n",
            "buffalow\n",
            "goat is a Halal Pet\n",
            "cow is a Halal Pet\n",
            "buffalow is a Halal Pet\n",
            "All these Animals give Milk\n"
          ]
        }
      ]
    }
  ]
}